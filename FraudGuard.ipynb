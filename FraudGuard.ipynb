{
 "cells": [
  {
   "cell_type": "code",
   "execution_count": 4,
   "id": "0a5ee24e-a1f6-4958-b458-06e2cfe3a8cf",
   "metadata": {},
   "outputs": [],
   "source": [
    "import pandas as pd\n",
    "import numpy as np\n",
    "import seaborn as sns\n",
    "import matplotlib.pyplot as plt\n",
    "from sklearn.model_selection import train_test_split\n",
    "from sklearn.preprocessing import StandardScaler\n",
    "from sklearn.ensemble import RandomForestClassifier\n",
    "from sklearn.metrics import classification_report, confusion_matrix, roc_auc_score"
   ]
  },
  {
   "cell_type": "markdown",
   "id": "7e420ac4-ac15-47f2-9932-633d7d15e91c",
   "metadata": {},
   "source": [
    "# Load Data\n"
   ]
  },
  {
   "cell_type": "code",
   "execution_count": 10,
   "id": "39574613-f704-4724-9c96-b3496309a396",
   "metadata": {},
   "outputs": [],
   "source": [
    "import pandas as pd\n",
    "data = pd.read_csv(r\"C:\\Users\\admin\\Downloads\\Fraud.csv\")\n"
   ]
  },
  {
   "cell_type": "markdown",
   "id": "80c77a29-730e-4abf-90bb-434bec7c31bc",
   "metadata": {},
   "source": [
    "# Display basic information"
   ]
  },
  {
   "cell_type": "code",
   "execution_count": 14,
   "id": "95fd8b4d-08a7-44ad-a874-b38c91e8f9d3",
   "metadata": {},
   "outputs": [
    {
     "name": "stdout",
     "output_type": "stream",
     "text": [
      "<class 'pandas.core.frame.DataFrame'>\n",
      "RangeIndex: 6362620 entries, 0 to 6362619\n",
      "Data columns (total 11 columns):\n",
      " #   Column          Dtype  \n",
      "---  ------          -----  \n",
      " 0   step            int64  \n",
      " 1   type            object \n",
      " 2   amount          float64\n",
      " 3   nameOrig        object \n",
      " 4   oldbalanceOrg   float64\n",
      " 5   newbalanceOrig  float64\n",
      " 6   nameDest        object \n",
      " 7   oldbalanceDest  float64\n",
      " 8   newbalanceDest  float64\n",
      " 9   isFraud         int64  \n",
      " 10  isFlaggedFraud  int64  \n",
      "dtypes: float64(5), int64(3), object(3)\n",
      "memory usage: 534.0+ MB\n",
      "None\n",
      "               step        amount  oldbalanceOrg  newbalanceOrig  \\\n",
      "count  6.362620e+06  6.362620e+06   6.362620e+06    6.362620e+06   \n",
      "mean   2.433972e+02  1.798619e+05   8.338831e+05    8.551137e+05   \n",
      "std    1.423320e+02  6.038582e+05   2.888243e+06    2.924049e+06   \n",
      "min    1.000000e+00  0.000000e+00   0.000000e+00    0.000000e+00   \n",
      "25%    1.560000e+02  1.338957e+04   0.000000e+00    0.000000e+00   \n",
      "50%    2.390000e+02  7.487194e+04   1.420800e+04    0.000000e+00   \n",
      "75%    3.350000e+02  2.087215e+05   1.073152e+05    1.442584e+05   \n",
      "max    7.430000e+02  9.244552e+07   5.958504e+07    4.958504e+07   \n",
      "\n",
      "       oldbalanceDest  newbalanceDest       isFraud  isFlaggedFraud  \n",
      "count    6.362620e+06    6.362620e+06  6.362620e+06    6.362620e+06  \n",
      "mean     1.100702e+06    1.224996e+06  1.290820e-03    2.514687e-06  \n",
      "std      3.399180e+06    3.674129e+06  3.590480e-02    1.585775e-03  \n",
      "min      0.000000e+00    0.000000e+00  0.000000e+00    0.000000e+00  \n",
      "25%      0.000000e+00    0.000000e+00  0.000000e+00    0.000000e+00  \n",
      "50%      1.327057e+05    2.146614e+05  0.000000e+00    0.000000e+00  \n",
      "75%      9.430367e+05    1.111909e+06  0.000000e+00    0.000000e+00  \n",
      "max      3.560159e+08    3.561793e+08  1.000000e+00    1.000000e+00  \n"
     ]
    }
   ],
   "source": [
    "print(data.info())\n",
    "print(data.describe())"
   ]
  },
  {
   "cell_type": "markdown",
   "id": "5fab1da5-ab97-4fca-8bae-048582dec49f",
   "metadata": {},
   "source": [
    "# Check for missing values"
   ]
  },
  {
   "cell_type": "code",
   "execution_count": 17,
   "id": "42b5bf45-0254-43e0-8a84-a40dce917f10",
   "metadata": {},
   "outputs": [
    {
     "name": "stdout",
     "output_type": "stream",
     "text": [
      "step              0\n",
      "type              0\n",
      "amount            0\n",
      "nameOrig          0\n",
      "oldbalanceOrg     0\n",
      "newbalanceOrig    0\n",
      "nameDest          0\n",
      "oldbalanceDest    0\n",
      "newbalanceDest    0\n",
      "isFraud           0\n",
      "isFlaggedFraud    0\n",
      "dtype: int64\n"
     ]
    }
   ],
   "source": [
    "print(data.isnull().sum())"
   ]
  },
  {
   "cell_type": "markdown",
   "id": "390af113-5f9f-496e-b7d2-8ed5a3866c6e",
   "metadata": {},
   "source": [
    "# Exploratory Data Analysis"
   ]
  },
  {
   "cell_type": "code",
   "execution_count": 22,
   "id": "1318960c-4170-43f6-b160-1353c0f49a59",
   "metadata": {},
   "outputs": [
    {
     "name": "stdout",
     "output_type": "stream",
     "text": [
      "Index(['step', 'type', 'amount', 'nameOrig', 'oldbalanceOrg', 'newbalanceOrig',\n",
      "       'nameDest', 'oldbalanceDest', 'newbalanceDest', 'isFraud',\n",
      "       'isFlaggedFraud'],\n",
      "      dtype='object')\n"
     ]
    }
   ],
   "source": [
    "print(data.columns)\n"
   ]
  },
  {
   "cell_type": "markdown",
   "id": "5e805781-3b74-4635-89dd-d97893e3acde",
   "metadata": {},
   "source": [
    "# Fraud vs Non-Fraud Transactions"
   ]
  },
  {
   "cell_type": "code",
   "execution_count": 28,
   "id": "f69ee5e0-d9d3-4f80-bf89-6e7877ce9645",
   "metadata": {},
   "outputs": [
    {
     "data": {
      "image/png": "[encoded data removed]",
      "text/plain": [
       "<Figure size 640x480 with 1 Axes>"
      ]
     },
     "metadata": {},
     "output_type": "display_data"
    }
   ],
   "source": [
    "import seaborn as sns\n",
    "import matplotlib.pyplot as plt\n",
    "\n",
    "sns.countplot(x='isFraud', data=data)\n",
    "plt.title(\"Fraud vs Non-Fraud Transactions\")\n",
    "plt.show()\n"
   ]
  },
  {
   "cell_type": "code",
   "execution_count": 8,
   "id": "44164d15-7528-4e87-b2c5-e9a8bed56a07",
   "metadata": {},
   "outputs": [
    {
     "name": "stdout",
     "output_type": "stream",
     "text": [
      "Index(['step', 'type', 'amount', 'nameOrig', 'oldbalanceOrg', 'newbalanceOrig',\n",
      "       'nameDest', 'oldbalanceDest', 'newbalanceDest', 'isFraud',\n",
      "       'isFlaggedFraud'],\n",
      "      dtype='object')\n"
     ]
    }
   ],
   "source": [
    "print(data.columns)\n"
   ]
  },
  {
   "cell_type": "code",
   "execution_count": 11,
   "id": "b93f2034-07ff-48b2-8f70-e54949c273d0",
   "metadata": {},
   "outputs": [],
   "source": [
    "X = data.drop(columns=['isFraud'])  # Case-sensitive\n",
    "y = data['isFraud']\n"
   ]
  },
  {
   "cell_type": "code",
   "execution_count": 13,
   "id": "8a55b67b-6dcd-4173-8643-2e759cf093eb",
   "metadata": {},
   "outputs": [
    {
     "name": "stdout",
     "output_type": "stream",
     "text": [
      "   step      type    amount     nameOrig  oldbalanceOrg  newbalanceOrig  \\\n",
      "0     1   PAYMENT   9839.64  C1231006815       170136.0       160296.36   \n",
      "1     1   PAYMENT   1864.28  C1666544295        21249.0        19384.72   \n",
      "2     1  TRANSFER    181.00  C1305486145          181.0            0.00   \n",
      "3     1  CASH_OUT    181.00   C840083671          181.0            0.00   \n",
      "4     1   PAYMENT  11668.14  C2048537720        41554.0        29885.86   \n",
      "\n",
      "      nameDest  oldbalanceDest  newbalanceDest  isFraud  isFlaggedFraud  \n",
      "0  M1979787155             0.0             0.0        0               0  \n",
      "1  M2044282225             0.0             0.0        0               0  \n",
      "2   C553264065             0.0             0.0        1               0  \n",
      "3    C38997010         21182.0             0.0        1               0  \n",
      "4  M1230701703             0.0             0.0        0               0  \n"
     ]
    }
   ],
   "source": [
    "print(data.head())"
   ]
  },
  {
   "cell_type": "code",
   "execution_count": 24,
   "id": "f139429e-5424-49e6-afe5-ec6d5ba48041",
   "metadata": {},
   "outputs": [],
   "source": [
    "data.columns = data.columns.str.strip()  # Remove spaces"
   ]
  },
  {
   "cell_type": "code",
   "execution_count": 28,
   "id": "f2491ec6-4b0c-4f4c-a203-103eccc159cf",
   "metadata": {},
   "outputs": [],
   "source": [
    "X = data.drop(columns=['isFraud'])  # Case-sensitive\n",
    "y = data['isFraud']"
   ]
  },
  {
   "cell_type": "code",
   "execution_count": 29,
   "id": "202d09ee-9cd2-4014-8f99-e4a4765cd96b",
   "metadata": {},
   "outputs": [
    {
     "name": "stdout",
     "output_type": "stream",
     "text": [
      "   step      type    amount     nameOrig  oldbalanceOrg  newbalanceOrig  \\\n",
      "0     1   PAYMENT   9839.64  C1231006815       170136.0       160296.36   \n",
      "1     1   PAYMENT   1864.28  C1666544295        21249.0        19384.72   \n",
      "2     1  TRANSFER    181.00  C1305486145          181.0            0.00   \n",
      "3     1  CASH_OUT    181.00   C840083671          181.0            0.00   \n",
      "4     1   PAYMENT  11668.14  C2048537720        41554.0        29885.86   \n",
      "\n",
      "      nameDest  oldbalanceDest  newbalanceDest  isFraud  isFlaggedFraud  \n",
      "0  M1979787155             0.0             0.0        0               0  \n",
      "1  M2044282225             0.0             0.0        0               0  \n",
      "2   C553264065             0.0             0.0        1               0  \n",
      "3    C38997010         21182.0             0.0        1               0  \n",
      "4  M1230701703             0.0             0.0        0               0  \n"
     ]
    }
   ],
   "source": [
    "print(data.head())\n"
   ]
  },
  {
   "cell_type": "code",
   "execution_count": 32,
   "id": "d3795ac5-4645-4f33-8b69-651b5233fac2",
   "metadata": {},
   "outputs": [
    {
     "name": "stdout",
     "output_type": "stream",
     "text": [
      "Index([], dtype='object')\n"
     ]
    }
   ],
   "source": [
    "print(data.columns[data.columns.isna()])\n"
   ]
  },
  {
   "cell_type": "code",
   "execution_count": 34,
   "id": "2e55ba85-f6af-43ee-88af-06eb9116ce2c",
   "metadata": {},
   "outputs": [],
   "source": [
    "X = data.drop(columns=['fraud_label'], errors='ignore')\n"
   ]
  },
  {
   "cell_type": "code",
   "execution_count": 50,
   "id": "bf64ea92-829d-4dc8-a4d3-643d16559e75",
   "metadata": {},
   "outputs": [
    {
     "name": "stdout",
     "output_type": "stream",
     "text": [
      "Requirement already satisfied: scikit-learn in c:\\users\\admin\\anaconda3\\lib\\site-packages (1.5.1)\n",
      "Requirement already satisfied: numpy>=1.19.5 in c:\\users\\admin\\appdata\\roaming\\python\\python312\\site-packages (from scikit-learn) (1.26.4)\n",
      "Requirement already satisfied: scipy>=1.6.0 in c:\\users\\admin\\anaconda3\\lib\\site-packages (from scikit-learn) (1.13.1)\n",
      "Requirement already satisfied: joblib>=1.2.0 in c:\\users\\admin\\anaconda3\\lib\\site-packages (from scikit-learn) (1.4.2)\n",
      "Requirement already satisfied: threadpoolctl>=3.1.0 in c:\\users\\admin\\anaconda3\\lib\\site-packages (from scikit-learn) (3.5.0)\n"
     ]
    }
   ],
   "source": [
    "!pip install scikit-learn"
   ]
  },
  {
   "cell_type": "markdown",
   "id": "ff74720a-1893-4a01-b261-ae4c4ea6d2a7",
   "metadata": {},
   "source": [
    "# Stratified Data Splitting for Balanced Fraud Detection"
   ]
  },
  {
   "cell_type": "code",
   "execution_count": 40,
   "id": "8e3ad2a6-65b8-45bc-b24c-1ce65a9e3af1",
   "metadata": {},
   "outputs": [],
   "source": [
    "from sklearn.model_selection import train_test_split"
   ]
  },
  {
   "cell_type": "code",
   "execution_count": 46,
   "id": "424460a3-e4b1-4bd0-b3ce-0e2908a3f254",
   "metadata": {},
   "outputs": [],
   "source": [
    "from sklearn.model_selection import train_test_split\n",
    "\n",
    "X_train, X_test, y_train, y_test = train_test_split(X, y, test_size=0.2, random_state=42, stratify=y)\n"
   ]
  },
  {
   "cell_type": "code",
   "execution_count": 47,
   "id": "b7901459-5064-4fd8-b669-15063792c6d3",
   "metadata": {},
   "outputs": [
    {
     "name": "stdout",
     "output_type": "stream",
     "text": [
      "<class 'pandas.core.frame.DataFrame'> <class 'pandas.core.series.Series'>\n",
      "(6362620, 11)\n",
      "(6362620,)\n"
     ]
    }
   ],
   "source": [
    "print(type(X), type(y))\n",
    "print(X.shape)\n",
    "print(y.shape)\n"
   ]
  },
  {
   "cell_type": "code",
   "execution_count": 5,
   "id": "91c92e82-19d3-44b3-8b35-50afead8cfa5",
   "metadata": {},
   "outputs": [],
   "source": [
    "from sklearn.model_selection import train_test_split\n"
   ]
  },
  {
   "cell_type": "code",
   "execution_count": 13,
   "id": "fce1d23a-1601-4aa2-84e1-d8f239c2e721",
   "metadata": {},
   "outputs": [
    {
     "name": "stdout",
     "output_type": "stream",
     "text": [
      "1.5.1\n"
     ]
    }
   ],
   "source": [
    "import sklearn\n",
    "print(sklearn.__version__)  # This should print the installed version\n"
   ]
  },
  {
   "cell_type": "code",
   "execution_count": 21,
   "id": "bd42235d-ab18-455e-8f36-f9d24874f50a",
   "metadata": {},
   "outputs": [],
   "source": [
    "import pandas as pd\n",
    "data = pd.read_csv(r\"C:\\Users\\admin\\Downloads\\Fraud.csv\")\n"
   ]
  },
  {
   "cell_type": "code",
   "execution_count": 22,
   "id": "fa284b1f-a5a9-4ca8-ad5a-e4426eb9738f",
   "metadata": {},
   "outputs": [],
   "source": [
    "X = data.drop(columns=['isFraud'])  # Drop the target column\n",
    "y = data['isFraud']  # Target variable"
   ]
  },
  {
   "cell_type": "code",
   "execution_count": 25,
   "id": "6704de56-749a-4c53-8a8c-6bf75cf14ada",
   "metadata": {
    "collapsed": true,
    "jupyter": {
     "outputs_hidden": true
    }
   },
   "outputs": [
    {
     "name": "stdout",
     "output_type": "stream",
     "text": [
      "<class 'pandas.core.frame.DataFrame'>\n",
      "   step      type    amount     nameOrig  oldbalanceOrg  newbalanceOrig  \\\n",
      "0     1   PAYMENT   9839.64  C1231006815       170136.0       160296.36   \n",
      "1     1   PAYMENT   1864.28  C1666544295        21249.0        19384.72   \n",
      "2     1  TRANSFER    181.00  C1305486145          181.0            0.00   \n",
      "3     1  CASH_OUT    181.00   C840083671          181.0            0.00   \n",
      "4     1   PAYMENT  11668.14  C2048537720        41554.0        29885.86   \n",
      "\n",
      "      nameDest  oldbalanceDest  newbalanceDest  isFraud  isFlaggedFraud  \n",
      "0  M1979787155             0.0             0.0        0               0  \n",
      "1  M2044282225             0.0             0.0        0               0  \n",
      "2   C553264065             0.0             0.0        1               0  \n",
      "3    C38997010         21182.0             0.0        1               0  \n",
      "4  M1230701703             0.0             0.0        0               0  \n",
      "Index(['step', 'type', 'amount', 'nameOrig', 'oldbalanceOrg', 'newbalanceOrig',\n",
      "       'nameDest', 'oldbalanceDest', 'newbalanceDest', 'isFraud',\n",
      "       'isFlaggedFraud'],\n",
      "      dtype='object')\n"
     ]
    }
   ],
   "source": [
    "print(type(data))  # Should print <class 'pandas.core.frame.DataFrame'>\n",
    "print(data.head())  # Show first few rows\n",
    "print(data.columns)  # Check column names"
   ]
  },
  {
   "cell_type": "code",
   "execution_count": 27,
   "id": "8d8ed217-8c22-4ba0-b8db-c7baebd0b983",
   "metadata": {},
   "outputs": [
    {
     "name": "stdout",
     "output_type": "stream",
     "text": [
      "Index(['step', 'type', 'amount', 'nameOrig', 'oldbalanceOrg', 'newbalanceOrig',\n",
      "       'nameDest', 'oldbalanceDest', 'newbalanceDest', 'isFraud',\n",
      "       'isFlaggedFraud'],\n",
      "      dtype='object')\n"
     ]
    }
   ],
   "source": [
    "print(data.columns)  # Look for variations like 'is_fraud' or ' isFraud '\n"
   ]
  },
  {
   "cell_type": "code",
   "execution_count": 1,
   "id": "95d1feaa-e32a-46f2-917c-644ca4c478cf",
   "metadata": {},
   "outputs": [
    {
     "name": "stdout",
     "output_type": "stream",
     "text": [
      "Requirement already satisfied: pandas in c:\\users\\admin\\anaconda3\\lib\\site-packages (2.2.2)\n",
      "Requirement already satisfied: scikit-learn in c:\\users\\admin\\anaconda3\\lib\\site-packages (1.5.1)\n",
      "Requirement already satisfied: numpy>=1.26.0 in c:\\users\\admin\\appdata\\roaming\\python\\python312\\site-packages (from pandas) (1.26.4)\n",
      "Requirement already satisfied: python-dateutil>=2.8.2 in c:\\users\\admin\\anaconda3\\lib\\site-packages (from pandas) (2.9.0.post0)\n",
      "Requirement already satisfied: pytz>=2020.1 in c:\\users\\admin\\anaconda3\\lib\\site-packages (from pandas) (2024.1)\n",
      "Requirement already satisfied: tzdata>=2022.7 in c:\\users\\admin\\anaconda3\\lib\\site-packages (from pandas) (2023.3)\n",
      "Requirement already satisfied: scipy>=1.6.0 in c:\\users\\admin\\anaconda3\\lib\\site-packages (from scikit-learn) (1.13.1)\n",
      "Requirement already satisfied: joblib>=1.2.0 in c:\\users\\admin\\anaconda3\\lib\\site-packages (from scikit-learn) (1.4.2)\n",
      "Requirement already satisfied: threadpoolctl>=3.1.0 in c:\\users\\admin\\anaconda3\\lib\\site-packages (from scikit-learn) (3.5.0)\n",
      "Requirement already satisfied: six>=1.5 in c:\\users\\admin\\anaconda3\\lib\\site-packages (from python-dateutil>=2.8.2->pandas) (1.16.0)\n"
     ]
    }
   ],
   "source": [
    "!pip install pandas scikit-learn\n"
   ]
  },
  {
   "cell_type": "markdown",
   "id": "d659b834-256e-4e4d-947c-ab46185c4511",
   "metadata": {},
   "source": [
    "# Efficient Data Loading and Splitting for Fraud Detection"
   ]
  },
  {
   "cell_type": "code",
   "execution_count": 3,
   "id": "4c1ce932-696b-4970-9d1a-ec0b2cf93cf0",
   "metadata": {},
   "outputs": [
    {
     "name": "stdout",
     "output_type": "stream",
     "text": [
      "X_train shape: (5090096, 10)\n",
      "X_test shape: (1272524, 10)\n",
      "y_train shape: (5090096,)\n",
      "y_test shape: (1272524,)\n",
      "Execution Time: 46.44 seconds\n"
     ]
    }
   ],
   "source": [
    "import pandas as pd\n",
    "import time\n",
    "from sklearn.model_selection import train_test_split\n",
    "\n",
    "# Measure execution time\n",
    "start_time = time.time()\n",
    "\n",
    "# Load the dataset efficiently\n",
    "file_path = r\"C:\\Users\\admin\\Downloads\\Fraud.csv\"\n",
    "data = pd.read_csv(file_path, low_memory=False)  # Load CSV\n",
    "\n",
    "# Define features and target\n",
    "X = data.drop(columns=['isFraud'])\n",
    "y = data['isFraud']\n",
    "\n",
    "# Split the data\n",
    "X_train, X_test, y_train, y_test = train_test_split(X, y, test_size=0.2, random_state=42)\n",
    "\n",
    "# Print shapes\n",
    "print(\"X_train shape:\", X_train.shape)\n",
    "print(\"X_test shape:\", X_test.shape)\n",
    "print(\"y_train shape:\", y_train.shape)\n",
    "print(\"y_test shape:\", y_test.shape)\n",
    "\n",
    "# Execution time\n",
    "print(f\"Execution Time: {time.time() - start_time:.2f} seconds\")\n"
   ]
  },
  {
   "cell_type": "markdown",
   "id": "6118b0c9-8fd6-41c8-9baf-0508f6f54903",
   "metadata": {},
   "source": [
    "# Fraud Detection: Data Loading, Splitting, and Verification"
   ]
  },
  {
   "cell_type": "code",
   "execution_count": 5,
   "id": "3309e079-776a-4f17-81c7-a778435c2cfd",
   "metadata": {},
   "outputs": [
    {
     "name": "stdout",
     "output_type": "stream",
     "text": [
      "Original dataset shape: (6362620, 11)\n",
      "X_train shape: (5090096, 10)\n",
      "X_test shape: (1272524, 10)\n",
      "y_train shape: (5090096,)\n",
      "y_test shape: (1272524,)\n",
      "Feature count: True\n",
      "Total samples after split: True\n"
     ]
    }
   ],
   "source": [
    "print(\"Original dataset shape:\", data.shape)  # Should be (6363620, 11) if 'isFraud' was dropped\n",
    "print(\"X_train shape:\", X_train.shape)  # (5090096, 10)\n",
    "print(\"X_test shape:\", X_test.shape)  # (1272524, 10)\n",
    "print(\"y_train shape:\", y_train.shape)  # (5090096,)\n",
    "print(\"y_test shape:\", y_test.shape)  # (1272524,)\n",
    "print(\"Feature count:\", X_train.shape[1] == X_test.shape[1])  # Should print True\n",
    "print(\"Total samples after split:\", len(X_train) + len(X_test) == len(y_train) + len(y_test) == len(data))  # Should print True\n"
   ]
  },
  {
   "cell_type": "code",
   "execution_count": 11,
   "id": "2382a68e-7cdc-48eb-aa83-77909c3856ce",
   "metadata": {},
   "outputs": [
    {
     "name": "stdout",
     "output_type": "stream",
     "text": [
      "step                int64\n",
      "type               object\n",
      "amount            float64\n",
      "nameOrig           object\n",
      "oldbalanceOrg     float64\n",
      "newbalanceOrig    float64\n",
      "nameDest           object\n",
      "oldbalanceDest    float64\n",
      "newbalanceDest    float64\n",
      "isFlaggedFraud      int64\n",
      "dtype: object\n"
     ]
    }
   ],
   "source": [
    "print(X_train.dtypes)\n"
   ]
  },
  {
   "cell_type": "code",
   "execution_count": 19,
   "id": "7ab4da97-c38c-4b93-a159-4a9d94ac02cb",
   "metadata": {},
   "outputs": [
    {
     "name": "stdout",
     "output_type": "stream",
     "text": [
      "Index(['step', 'type', 'amount', 'nameOrig', 'oldbalanceOrg', 'newbalanceOrig',\n",
      "       'nameDest', 'oldbalanceDest', 'newbalanceDest', 'isFlaggedFraud'],\n",
      "      dtype='object')\n",
      "Index(['step', 'type', 'amount', 'nameOrig', 'oldbalanceOrg', 'newbalanceOrig',\n",
      "       'nameDest', 'oldbalanceDest', 'newbalanceDest', 'isFlaggedFraud'],\n",
      "      dtype='object')\n"
     ]
    }
   ],
   "source": [
    "print(X_train.columns)\n",
    "print(X_test.columns)\n"
   ]
  },
  {
   "cell_type": "code",
   "execution_count": 21,
   "id": "9379d7d8-26f1-4c8f-8aa4-daf4334cc9a2",
   "metadata": {},
   "outputs": [],
   "source": [
    "import pandas as pd\n",
    "\n",
    "# If X_train is an array, convert it to a DataFrame\n",
    "X_train = pd.DataFrame(X_train, columns=['col1', 'col2', 'column_name'])  # Update column names accordingly\n",
    "X_test = pd.DataFrame(X_test, columns=['col1', 'col2', 'column_name'])  \n"
   ]
  },
  {
   "cell_type": "code",
   "execution_count": 23,
   "id": "2199015b-4368-4c88-a200-e83afad74114",
   "metadata": {},
   "outputs": [
    {
     "name": "stdout",
     "output_type": "stream",
     "text": [
      "[nan]\n"
     ]
    }
   ],
   "source": [
    "print(X_train['column_name'].unique())\n"
   ]
  },
  {
   "cell_type": "code",
   "execution_count": 29,
   "id": "97d5f7d1-436d-44f1-86ab-43d1415a3518",
   "metadata": {},
   "outputs": [],
   "source": [
    "X_train['column_name'].fillna('Unknown', inplace=True)\n",
    "X_test['column_name'].fillna('Unknown', inplace=True)\n"
   ]
  },
  {
   "cell_type": "code",
   "execution_count": 31,
   "id": "2ea177a5-4c81-4096-9529-3eb06e64abc0",
   "metadata": {},
   "outputs": [],
   "source": [
    "from sklearn.preprocessing import OneHotEncoder\n",
    "\n",
    "encoder = OneHotEncoder(handle_unknown='ignore', sparse_output=False)\n",
    "X_train_encoded = encoder.fit_transform(X_train[['column_name']])\n",
    "X_test_encoded = encoder.transform(X_test[['column_name']])\n"
   ]
  },
  {
   "cell_type": "code",
   "execution_count": 33,
   "id": "e36bab77-5c85-46fc-a0e0-2807f8b87fd9",
   "metadata": {},
   "outputs": [],
   "source": [
    "X_train.drop(columns=['column_name'], inplace=True)\n",
    "X_test.drop(columns=['column_name'], inplace=True)\n"
   ]
  },
  {
   "cell_type": "code",
   "execution_count": 37,
   "id": "601ed235-baf6-4220-be4e-2e8739c771b1",
   "metadata": {},
   "outputs": [
    {
     "name": "stdout",
     "output_type": "stream",
     "text": [
      "Index(['col1', 'col2'], dtype='object')\n",
      "Index(['col1', 'col2'], dtype='object')\n"
     ]
    }
   ],
   "source": [
    "print(X_train.columns)\n",
    "print(X_test.columns)\n"
   ]
  },
  {
   "cell_type": "code",
   "execution_count": 39,
   "id": "5204b9fd-4426-4d40-a83b-01247d02533e",
   "metadata": {},
   "outputs": [
    {
     "name": "stdout",
     "output_type": "stream",
     "text": [
      "         col1  col2\n",
      "6271196   NaN   NaN\n",
      "1888243   NaN   NaN\n",
      "5549957   NaN   NaN\n",
      "2025342   NaN   NaN\n",
      "682342    NaN   NaN\n"
     ]
    }
   ],
   "source": [
    "print(X_train.head())  # Look at a sample of the dataset\n"
   ]
  },
  {
   "cell_type": "code",
   "execution_count": 41,
   "id": "5cdeaaa0-cec6-46a4-a890-fee9907e9cd8",
   "metadata": {},
   "outputs": [
    {
     "name": "stdout",
     "output_type": "stream",
     "text": [
      "col1    5090096\n",
      "col2    5090096\n",
      "dtype: int64\n",
      "(5090096, 2)\n"
     ]
    }
   ],
   "source": [
    "print(X_train.isnull().sum())  # Count NaN values in each column\n",
    "print(X_train.shape)  # Check dimensions of the DataFrame\n"
   ]
  },
  {
   "cell_type": "code",
   "execution_count": 47,
   "id": "9128569d-2ce8-430c-8f66-748af1a5bc81",
   "metadata": {},
   "outputs": [],
   "source": [
    "import pandas as pd\n",
    "\n",
    "# Load your dataset again\n",
    "X_train = pd.read_csv(r\"C:\\Users\\admin\\Downloads\\Fraud.csv\")  # Change to your actual file path\n",
    "\n"
   ]
  },
  {
   "cell_type": "code",
   "execution_count": 49,
   "id": "dd1ba31f-3dbb-4c40-92c9-0c341f93c604",
   "metadata": {},
   "outputs": [
    {
     "name": "stdout",
     "output_type": "stream",
     "text": [
      "   step      type    amount     nameOrig  oldbalanceOrg  newbalanceOrig  \\\n",
      "0     1   PAYMENT   9839.64  C1231006815       170136.0       160296.36   \n",
      "1     1   PAYMENT   1864.28  C1666544295        21249.0        19384.72   \n",
      "2     1  TRANSFER    181.00  C1305486145          181.0            0.00   \n",
      "3     1  CASH_OUT    181.00   C840083671          181.0            0.00   \n",
      "4     1   PAYMENT  11668.14  C2048537720        41554.0        29885.86   \n",
      "\n",
      "      nameDest  oldbalanceDest  newbalanceDest  isFraud  isFlaggedFraud  \n",
      "0  M1979787155             0.0             0.0        0               0  \n",
      "1  M2044282225             0.0             0.0        0               0  \n",
      "2   C553264065             0.0             0.0        1               0  \n",
      "3    C38997010         21182.0             0.0        1               0  \n",
      "4  M1230701703             0.0             0.0        0               0  \n"
     ]
    }
   ],
   "source": [
    "print(X_train.head())  # See if data is correctly loaded\n"
   ]
  },
  {
   "cell_type": "code",
   "execution_count": 51,
   "id": "55c33a21-3da1-4abd-a0ff-e0c135fca17b",
   "metadata": {},
   "outputs": [],
   "source": [
    "X_train.fillna(\"Unknown\", inplace=True)  # For categorical values\n",
    "X_train.fillna(0, inplace=True)  # For numerical values\n"
   ]
  },
  {
   "cell_type": "code",
   "execution_count": 55,
   "id": "aca05f77-3dfb-4bf9-a57a-20b41bf5dc6b",
   "metadata": {},
   "outputs": [
    {
     "name": "stdout",
     "output_type": "stream",
     "text": [
      "Index(['step', 'type', 'amount', 'nameOrig', 'oldbalanceOrg', 'newbalanceOrig',\n",
      "       'nameDest', 'oldbalanceDest', 'newbalanceDest', 'isFraud',\n",
      "       'isFlaggedFraud'],\n",
      "      dtype='object')\n"
     ]
    }
   ],
   "source": [
    "print(X_train.columns)\n"
   ]
  },
  {
   "cell_type": "code",
   "execution_count": 61,
   "id": "4de8e5fc-a6eb-4d8b-9d79-6acf6e0a75ba",
   "metadata": {},
   "outputs": [],
   "source": [
    "import pandas as pd\n",
    "X_train = pd.DataFrame(X_train, columns=['col1', 'col2', 'your_categorical_column', ...])\n"
   ]
  },
  {
   "cell_type": "code",
   "execution_count": 67,
   "id": "6fe9fb08-ac69-44b9-adaa-0fa127739e27",
   "metadata": {},
   "outputs": [],
   "source": [
    "X_train.columns = X_train.columns.astype(str)\n"
   ]
  },
  {
   "cell_type": "code",
   "execution_count": 69,
   "id": "e923ae7f-98c4-4356-9dcb-394207e0639d",
   "metadata": {},
   "outputs": [
    {
     "name": "stdout",
     "output_type": "stream",
     "text": [
      "Index(['col1', 'col2', 'your_categorical_column', 'Ellipsis'], dtype='object')\n"
     ]
    }
   ],
   "source": [
    "print(X_train.columns)\n"
   ]
  },
  {
   "cell_type": "markdown",
   "id": "c3b1cbd3-3d43-4f4c-9f8f-eac580b2337c",
   "metadata": {},
   "source": [
    "# Data Preprocessing: Encoding & Scaling Features"
   ]
  },
  {
   "cell_type": "code",
   "execution_count": 71,
   "id": "fa101239-9d16-42e1-b560-ff458ea68fca",
   "metadata": {},
   "outputs": [
    {
     "name": "stderr",
     "output_type": "stream",
     "text": [
      "C:\\Users\\admin\\anaconda3\\Lib\\site-packages\\sklearn\\utils\\extmath.py:1137: RuntimeWarning: invalid value encountered in divide\n",
      "  updated_mean = (last_sum + new_sum) / updated_sample_count\n",
      "C:\\Users\\admin\\anaconda3\\Lib\\site-packages\\sklearn\\utils\\extmath.py:1142: RuntimeWarning: invalid value encountered in divide\n",
      "  T = new_sum / new_sample_count\n",
      "C:\\Users\\admin\\anaconda3\\Lib\\site-packages\\sklearn\\utils\\extmath.py:1162: RuntimeWarning: invalid value encountered in divide\n",
      "  new_unnormalized_variance -= correction**2 / new_sample_count\n"
     ]
    },
    {
     "name": "stdout",
     "output_type": "stream",
     "text": [
      "   col1  col2  Ellipsis  your_categorical_column_nan\n",
      "0   NaN   NaN       NaN                          1.0\n",
      "1   NaN   NaN       NaN                          1.0\n",
      "2   NaN   NaN       NaN                          1.0\n",
      "3   NaN   NaN       NaN                          1.0\n",
      "4   NaN   NaN       NaN                          1.0\n"
     ]
    }
   ],
   "source": [
    "import numpy as np\n",
    "import pandas as pd\n",
    "from sklearn.preprocessing import OneHotEncoder, StandardScaler\n",
    "\n",
    "# Ensure column names are strings\n",
    "X_train.columns = X_train.columns.astype(str)\n",
    "\n",
    "# Identify categorical and numerical columns\n",
    "categorical_cols = ['your_categorical_column']\n",
    "numerical_cols = [col for col in X_train.columns if col not in categorical_cols]\n",
    "\n",
    "# Encode categorical columns\n",
    "encoder = OneHotEncoder(handle_unknown='ignore', sparse_output=False)\n",
    "X_train_encoded = encoder.fit_transform(X_train[categorical_cols])\n",
    "X_train_encoded_df = pd.DataFrame(X_train_encoded, columns=encoder.get_feature_names_out(categorical_cols))\n",
    "\n",
    "# Standardize numerical columns\n",
    "scaler = StandardScaler()\n",
    "X_train_scaled = scaler.fit_transform(X_train[numerical_cols])\n",
    "X_train_scaled_df = pd.DataFrame(X_train_scaled, columns=numerical_cols)\n",
    "\n",
    "# Combine transformed columns\n",
    "X_train_final = pd.concat([X_train_scaled_df, X_train_encoded_df], axis=1)\n",
    "\n",
    "print(X_train_final.head())  # Check final DataFrame\n"
   ]
  },
  {
   "cell_type": "code",
   "execution_count": 73,
   "id": "44acbcd6-1eee-495b-907a-d99600d29b55",
   "metadata": {},
   "outputs": [
    {
     "name": "stdout",
     "output_type": "stream",
     "text": [
      "   col1  col2  your_categorical_column  Ellipsis\n",
      "0   NaN   NaN                      NaN       NaN\n",
      "1   NaN   NaN                      NaN       NaN\n",
      "2   NaN   NaN                      NaN       NaN\n",
      "3   NaN   NaN                      NaN       NaN\n",
      "4   NaN   NaN                      NaN       NaN\n",
      "col1                       float64\n",
      "col2                       float64\n",
      "your_categorical_column    float64\n",
      "Ellipsis                   float64\n",
      "dtype: object\n"
     ]
    }
   ],
   "source": [
    "print(X_train.head())\n",
    "print(X_train.dtypes)\n"
   ]
  },
  {
   "cell_type": "code",
   "execution_count": 75,
   "id": "ec54a7d1-89fc-4cdd-be97-547e34e4df64",
   "metadata": {},
   "outputs": [],
   "source": [
    "categorical_cols = X_train.select_dtypes(include=['object']).columns.tolist()\n",
    "numerical_cols = X_train.select_dtypes(include=['number']).columns.tolist()\n"
   ]
  },
  {
   "cell_type": "code",
   "execution_count": 77,
   "id": "55a3a373-12dc-4b2a-8949-27f40b6d7a54",
   "metadata": {},
   "outputs": [
    {
     "name": "stdout",
     "output_type": "stream",
     "text": [
      "col1                       6362620\n",
      "col2                       6362620\n",
      "your_categorical_column    6362620\n",
      "Ellipsis                   6362620\n",
      "dtype: int64\n"
     ]
    }
   ],
   "source": [
    "print(X_train[numerical_cols].isna().sum())  # Check for NaNs\n",
    "X_train[numerical_cols] = X_train[numerical_cols].fillna(X_train[numerical_cols].mean())  # Fill NaNs\n"
   ]
  },
  {
   "cell_type": "markdown",
   "id": "521a2ab4-f7c2-47cb-ae09-aa306bc986dd",
   "metadata": {},
   "source": [
    "# Comprehensive Data Preprocessing: Handling Missing Values, Encoding, and Scaling"
   ]
  },
  {
   "cell_type": "code",
   "execution_count": 81,
   "id": "325fa56a-cf8a-41ef-82e2-beba82cca645",
   "metadata": {},
   "outputs": [
    {
     "name": "stderr",
     "output_type": "stream",
     "text": [
      "C:\\Users\\admin\\anaconda3\\Lib\\site-packages\\sklearn\\utils\\extmath.py:1137: RuntimeWarning: invalid value encountered in divide\n",
      "  updated_mean = (last_sum + new_sum) / updated_sample_count\n",
      "C:\\Users\\admin\\anaconda3\\Lib\\site-packages\\sklearn\\utils\\extmath.py:1142: RuntimeWarning: invalid value encountered in divide\n",
      "  T = new_sum / new_sample_count\n",
      "C:\\Users\\admin\\anaconda3\\Lib\\site-packages\\sklearn\\utils\\extmath.py:1162: RuntimeWarning: invalid value encountered in divide\n",
      "  new_unnormalized_variance -= correction**2 / new_sample_count\n"
     ]
    },
    {
     "name": "stdout",
     "output_type": "stream",
     "text": [
      "   col1  col2  your_categorical_column  Ellipsis\n",
      "0   NaN   NaN                      NaN       NaN\n",
      "1   NaN   NaN                      NaN       NaN\n",
      "2   NaN   NaN                      NaN       NaN\n",
      "3   NaN   NaN                      NaN       NaN\n",
      "4   NaN   NaN                      NaN       NaN\n"
     ]
    }
   ],
   "source": [
    "import numpy as np\n",
    "import pandas as pd\n",
    "from sklearn.preprocessing import OneHotEncoder, StandardScaler\n",
    "\n",
    "# Ensure column names are strings\n",
    "X_train.columns = X_train.columns.astype(str)\n",
    "\n",
    "# Identify categorical and numerical columns correctly\n",
    "categorical_cols = X_train.select_dtypes(include=['object']).columns.tolist()\n",
    "numerical_cols = X_train.select_dtypes(include=['number']).columns.tolist()\n",
    "\n",
    "# Handle missing values (fill NaNs with column mean)\n",
    "X_train[numerical_cols] = X_train[numerical_cols].replace([np.inf, -np.inf], np.nan)  # Replace infinite values\n",
    "X_train[numerical_cols] = X_train[numerical_cols].fillna(X_train[numerical_cols].mean())\n",
    "\n",
    "# Drop constant numerical columns (to avoid division by zero)\n",
    "constant_cols = [col for col in numerical_cols if X_train[col].nunique() == 1]\n",
    "X_train = X_train.drop(columns=constant_cols, errors='ignore')\n",
    "numerical_cols = [col for col in numerical_cols if col not in constant_cols]\n",
    "\n",
    "# Encode categorical columns\n",
    "encoder = OneHotEncoder(handle_unknown='ignore', sparse_output=False)\n",
    "X_train_encoded = encoder.fit_transform(X_train[categorical_cols])\n",
    "X_train_encoded_df = pd.DataFrame(X_train_encoded, columns=encoder.get_feature_names_out(categorical_cols))\n",
    "\n",
    "# Standardize numerical columns\n",
    "scaler = StandardScaler()\n",
    "if numerical_cols:  # Ensure numerical columns exist\n",
    "    X_train_scaled = scaler.fit_transform(X_train[numerical_cols])\n",
    "    X_train_scaled_df = pd.DataFrame(X_train_scaled, columns=numerical_cols)\n",
    "else:\n",
    "    X_train_scaled_df = pd.DataFrame()\n",
    "\n",
    "# Combine transformed columns\n",
    "X_train_final = pd.concat([X_train_scaled_df, X_train_encoded_df], axis=1)\n",
    "\n",
    "print(X_train_final.head())  # Display the final transformed dataset\n"
   ]
  },
  {
   "cell_type": "code",
   "execution_count": 83,
   "id": "fd58c208-c1e6-4346-a627-14c9f53c8107",
   "metadata": {},
   "outputs": [
    {
     "name": "stdout",
     "output_type": "stream",
     "text": [
      "col1                       6362620\n",
      "col2                       6362620\n",
      "your_categorical_column    6362620\n",
      "Ellipsis                   6362620\n",
      "dtype: int64\n",
      "col1                       0\n",
      "col2                       0\n",
      "your_categorical_column    0\n",
      "Ellipsis                   0\n",
      "dtype: int64\n"
     ]
    }
   ],
   "source": [
    "print(X_train[numerical_cols].isna().sum())  # Check for NaNs\n",
    "print(np.isinf(X_train[numerical_cols]).sum())  # Check for infinite values\n"
   ]
  },
  {
   "cell_type": "code",
   "execution_count": 85,
   "id": "769e766f-8d59-4a79-a46a-dcd33ab2dfb3",
   "metadata": {},
   "outputs": [
    {
     "name": "stdout",
     "output_type": "stream",
     "text": [
      "NaN count before cleaning:\n",
      " col1                       6362620\n",
      "col2                       6362620\n",
      "your_categorical_column    6362620\n",
      "Ellipsis                   6362620\n",
      "dtype: int64\n",
      "NaN count after cleaning:\n",
      " Series([], dtype: float64)\n",
      "\n",
      "Final Processed Data (First 5 Rows):\n",
      "Empty DataFrame\n",
      "Columns: []\n",
      "Index: []\n"
     ]
    }
   ],
   "source": [
    "import numpy as np\n",
    "import pandas as pd\n",
    "from sklearn.preprocessing import OneHotEncoder, StandardScaler\n",
    "\n",
    "# Ensure column names are strings\n",
    "X_train.columns = X_train.columns.astype(str)\n",
    "\n",
    "# Identify categorical and numerical columns\n",
    "categorical_cols = X_train.select_dtypes(include=['object']).columns.tolist()\n",
    "numerical_cols = X_train.select_dtypes(include=['number']).columns.tolist()\n",
    "\n",
    "# DEBUG: Check number of NaN values in each column\n",
    "print(\"NaN count before cleaning:\\n\", X_train[numerical_cols].isna().sum())\n",
    "\n",
    "# 1️⃣ **Drop Columns That Are Completely NaN**\n",
    "X_train = X_train.dropna(axis=1, how=\"all\")  # Remove columns where all values are NaN\n",
    "numerical_cols = [col for col in numerical_cols if col in X_train.columns]  # Update list\n",
    "\n",
    "# 2️⃣ **Fill Remaining NaNs with Median (Best for Large Data)**\n",
    "X_train[numerical_cols] = X_train[numerical_cols].fillna(X_train[numerical_cols].median())\n",
    "\n",
    "# DEBUG: Check after fixing NaNs\n",
    "print(\"NaN count after cleaning:\\n\", X_train[numerical_cols].isna().sum())\n",
    "\n",
    "# 3️⃣ **Handle Categorical Data**\n",
    "encoder = OneHotEncoder(handle_unknown='ignore', sparse_output=False)\n",
    "if categorical_cols:  # Ensure categorical columns exist\n",
    "    X_train_encoded = encoder.fit_transform(X_train[categorical_cols])\n",
    "    X_train_encoded_df = pd.DataFrame(X_train_encoded, columns=encoder.get_feature_names_out(categorical_cols))\n",
    "else:\n",
    "    X_train_encoded_df = pd.DataFrame()\n",
    "\n",
    "# 4️⃣ **Standardize Numerical Columns**\n",
    "scaler = StandardScaler()\n",
    "if numerical_cols:\n",
    "    X_train_scaled = scaler.fit_transform(X_train[numerical_cols])\n",
    "    X_train_scaled_df = pd.DataFrame(X_train_scaled, columns=numerical_cols)\n",
    "else:\n",
    "    X_train_scaled_df = pd.DataFrame()\n",
    "\n",
    "# 5️⃣ **Combine Encoded & Scaled Data**\n",
    "X_train_final = pd.concat([X_train_scaled_df, X_train_encoded_df], axis=1)\n",
    "\n",
    "print(\"\\nFinal Processed Data (First 5 Rows):\")\n",
    "print(X_train_final.head())  # Display final transformed dataset\n"
   ]
  },
  {
   "cell_type": "markdown",
   "id": "68721e90-20b7-4633-bf48-62f874bee833",
   "metadata": {},
   "source": [
    "# Data Preprocessing: Clean, Encode & Scale"
   ]
  },
  {
   "cell_type": "code",
   "execution_count": 89,
   "id": "83f28214-9e5e-48dc-b32e-1a8989519d3e",
   "metadata": {},
   "outputs": [
    {
     "name": "stdout",
     "output_type": "stream",
     "text": [
      "NaN count before cleaning:\n",
      " Series([], dtype: float64)\n",
      "NaN count after cleaning:\n",
      " Series([], dtype: float64)\n",
      "\n",
      "Final Processed Data (First 5 Rows):\n",
      "Empty DataFrame\n",
      "Columns: []\n",
      "Index: []\n"
     ]
    }
   ],
   "source": [
    "import numpy as np\n",
    "import pandas as pd\n",
    "from sklearn.preprocessing import OneHotEncoder, StandardScaler\n",
    "\n",
    "# Ensure column names are strings\n",
    "X_train.columns = X_train.columns.astype(str)\n",
    "\n",
    "# Identify categorical and numerical columns\n",
    "categorical_cols = X_train.select_dtypes(include=['object']).columns.tolist()\n",
    "numerical_cols = X_train.select_dtypes(include=['number']).columns.tolist()\n",
    "\n",
    "# DEBUG: Check NaN values before cleaning\n",
    "print(\"NaN count before cleaning:\\n\", X_train[numerical_cols].isna().sum())\n",
    "\n",
    "# 1️⃣ **Replace NaNs with Zero (or Mean if Needed)**\n",
    "X_train[numerical_cols] = X_train[numerical_cols].fillna(0)  # Replace all NaNs with 0\n",
    "\n",
    "# DEBUG: Check NaN values after fixing\n",
    "print(\"NaN count after cleaning:\\n\", X_train[numerical_cols].isna().sum())\n",
    "\n",
    "# 2️⃣ **Handle Categorical Data**\n",
    "encoder = OneHotEncoder(handle_unknown='ignore', sparse_output=False)\n",
    "if categorical_cols:\n",
    "    X_train_encoded = encoder.fit_transform(X_train[categorical_cols])\n",
    "    X_train_encoded_df = pd.DataFrame(X_train_encoded, columns=encoder.get_feature_names_out(categorical_cols))\n",
    "else:\n",
    "    X_train_encoded_df = pd.DataFrame()\n",
    "\n",
    "# 3️⃣ **Standardize Numerical Columns**\n",
    "scaler = StandardScaler()\n",
    "if numerical_cols:\n",
    "    X_train_scaled = scaler.fit_transform(X_train[numerical_cols])\n",
    "    X_train_scaled_df = pd.DataFrame(X_train_scaled, columns=numerical_cols)\n",
    "else:\n",
    "    X_train_scaled_df = pd.DataFrame()\n",
    "\n",
    "# 4️⃣ **Combine Transformed Data**\n",
    "X_train_final = pd.concat([X_train_scaled_df, X_train_encoded_df], axis=1)\n",
    "\n",
    "# Print final output\n",
    "print(\"\\nFinal Processed Data (First 5 Rows):\")\n",
    "print(X_train_final.head())\n"
   ]
  },
  {
   "cell_type": "markdown",
   "id": "10d3daab-6abf-42f5-ae9c-a177f832b77c",
   "metadata": {},
   "source": [
    "# Data Preprocessing: Clean, Encode & Scale Efficiently"
   ]
  },
  {
   "cell_type": "code",
   "execution_count": 91,
   "id": "930cbd56-49cb-4403-8d92-d692773735c8",
   "metadata": {},
   "outputs": [
    {
     "name": "stdout",
     "output_type": "stream",
     "text": [
      "NaN count after cleaning:\n",
      " Series([], dtype: float64)\n",
      "\n",
      "Final Processed Data (First 5 Rows):\n",
      "Empty DataFrame\n",
      "Columns: []\n",
      "Index: []\n"
     ]
    }
   ],
   "source": [
    "import numpy as np\n",
    "import pandas as pd\n",
    "from sklearn.preprocessing import OneHotEncoder, StandardScaler\n",
    "\n",
    "# Ensure column names are strings (Fix potential issues)\n",
    "X_train.columns = X_train.columns.astype(str)\n",
    "\n",
    "# 🔥 Remove invalid columns (like \"Ellipsis\")\n",
    "X_train = X_train.drop(columns=['Ellipsis'], errors='ignore')\n",
    "\n",
    "# ✅ Identify categorical and numerical columns correctly\n",
    "categorical_cols = X_train.select_dtypes(include=['object']).columns.tolist()\n",
    "numerical_cols = X_train.select_dtypes(include=['number']).columns.tolist()\n",
    "\n",
    "# 🛠️ Fix NaN Issues\n",
    "if numerical_cols:  \n",
    "    X_train[numerical_cols] = X_train[numerical_cols].fillna(0)  # Replace NaNs with 0 (or use .mean() if needed)\n",
    "\n",
    "# 🔍 DEBUG: Check NaN values after fixing\n",
    "print(\"NaN count after cleaning:\\n\", X_train[numerical_cols].isna().sum())\n",
    "\n",
    "# ✅ Encode Categorical Data (OneHot Encoding)\n",
    "if categorical_cols:\n",
    "    encoder = OneHotEncoder(handle_unknown='ignore', sparse_output=False)\n",
    "    X_train_encoded = encoder.fit_transform(X_train[categorical_cols])\n",
    "    X_train_encoded_df = pd.DataFrame(X_train_encoded, columns=encoder.get_feature_names_out(categorical_cols))\n",
    "else:\n",
    "    X_train_encoded_df = pd.DataFrame()\n",
    "\n",
    "# ✅ Standardize Numerical Columns\n",
    "if numerical_cols:\n",
    "    scaler = StandardScaler()\n",
    "    X_train_scaled = scaler.fit_transform(X_train[numerical_cols])\n",
    "    X_train_scaled_df = pd.DataFrame(X_train_scaled, columns=numerical_cols)\n",
    "else:\n",
    "    X_train_scaled_df = pd.DataFrame()\n",
    "\n",
    "# ✅ Combine Encoded & Scaled Data\n",
    "X_train_final = pd.concat([X_train_scaled_df, X_train_encoded_df], axis=1)\n",
    "\n",
    "# 🎯 **Print final transformed dataset**\n",
    "print(\"\\nFinal Processed Data (First 5 Rows):\")\n",
    "print(X_train_final.head())\n"
   ]
  },
  {
   "cell_type": "code",
   "execution_count": 97,
   "id": "8697161f-c1d9-4bd2-997f-40db0a095c9c",
   "metadata": {},
   "outputs": [
    {
     "name": "stdout",
     "output_type": "stream",
     "text": [
      "Data standardization successful!\n"
     ]
    }
   ],
   "source": [
    "import numpy as np\n",
    "from sklearn.preprocessing import StandardScaler\n",
    "from sklearn.model_selection import train_test_split\n",
    "\n",
    "# Example dataset\n",
    "X = np.random.rand(100, 5)  # 100 samples, 5 features\n",
    "y = np.random.randint(0, 2, 100)  # Binary target\n",
    "\n",
    "# Splitting the dataset\n",
    "X_train, X_test, y_train, y_test = train_test_split(X, y, test_size=0.2, random_state=42)\n",
    "\n",
    "# Standardizing Data\n",
    "scaler = StandardScaler()\n",
    "X_train_scaled = scaler.fit_transform(X_train)  # Fit and transform training data\n",
    "X_test_scaled = scaler.transform(X_test)  # Transform test data\n",
    "\n",
    "print(\"Data standardization successful!\")\n"
   ]
  },
  {
   "cell_type": "code",
   "execution_count": 99,
   "id": "14a59d3a-a708-4bc4-8e68-18bccceaf0b0",
   "metadata": {},
   "outputs": [
    {
     "name": "stdout",
     "output_type": "stream",
     "text": [
      "First 5 rows of X_train_scaled:\n",
      " [[ 1.28405848 -1.08775352 -0.21561513  0.72642195  0.8787648 ]\n",
      " [-0.87986724 -1.4699116  -0.68281396 -1.59236774  0.48910055]\n",
      " [-1.56658351 -0.72421722  0.61952238 -0.09234079 -1.59231073]\n",
      " [ 0.29714726 -0.99838259 -0.96268783 -0.31681121 -1.03206837]\n",
      " [-0.18367889 -1.70823275 -0.13742371 -0.4557181   1.05094563]]\n",
      "First 5 rows of X_test_scaled:\n",
      " [[-1.22791807  1.46271391  1.68810012 -0.68692776 -1.50639939]\n",
      " [-1.31757041  0.74752579  1.47588324  1.45208039  0.4437055 ]\n",
      " [-0.3913694   1.130117    0.13195661 -0.58937077  1.02310636]\n",
      " [ 1.70419289 -0.53183688 -1.17705699  1.11770817  0.85136877]\n",
      " [ 0.70378135 -0.42743934 -1.3044297   0.22615517  1.7345116 ]]\n"
     ]
    }
   ],
   "source": [
    "print(\"First 5 rows of X_train_scaled:\\n\", X_train_scaled[:5])\n",
    "print(\"First 5 rows of X_test_scaled:\\n\", X_test_scaled[:5])\n"
   ]
  },
  {
   "cell_type": "code",
   "execution_count": 101,
   "id": "5b29ceb5-81f1-48c5-bd20-8bf8998bf9bb",
   "metadata": {},
   "outputs": [
    {
     "name": "stdout",
     "output_type": "stream",
     "text": [
      "Mean of X_train_scaled (should be ~0): [ 5.21804822e-16 -3.10862447e-16  2.22044605e-16  0.00000000e+00\n",
      " -1.22124533e-16]\n",
      "Std Dev of X_train_scaled (should be ~1): [1. 1. 1. 1. 1.]\n"
     ]
    }
   ],
   "source": [
    "print(\"Mean of X_train_scaled (should be ~0):\", X_train_scaled.mean(axis=0))\n",
    "print(\"Std Dev of X_train_scaled (should be ~1):\", X_train_scaled.std(axis=0))\n"
   ]
  },
  {
   "cell_type": "code",
   "execution_count": 103,
   "id": "b2a30926-f36b-4874-83a2-c7c2a2c303b8",
   "metadata": {},
   "outputs": [
    {
     "name": "stdout",
     "output_type": "stream",
     "text": [
      "Shape of X_train_scaled: (80, 5)\n",
      "Shape of X_test_scaled: (20, 5)\n"
     ]
    }
   ],
   "source": [
    "print(\"Shape of X_train_scaled:\", X_train_scaled.shape)\n",
    "print(\"Shape of X_test_scaled:\", X_test_scaled.shape)\n"
   ]
  },
  {
   "cell_type": "code",
   "execution_count": 105,
   "id": "3bb3ea05-8205-4c6c-a89b-0ae90f225b5e",
   "metadata": {},
   "outputs": [
    {
     "name": "stdout",
     "output_type": "stream",
     "text": [
      "Shape of X_train_scaled: (80, 5)\n",
      "Shape of X_test_scaled: (20, 5)\n"
     ]
    }
   ],
   "source": [
    "print(\"Shape of X_train_scaled:\", X_train_scaled.shape)\n",
    "print(\"Shape of X_test_scaled:\", X_test_scaled.shape)\n"
   ]
  },
  {
   "cell_type": "markdown",
   "id": "8ac5f548-9e07-4092-b6aa-383bca09b3c5",
   "metadata": {},
   "source": [
    "# Model Training\n"
   ]
  },
  {
   "cell_type": "code",
   "execution_count": 110,
   "id": "fab304f9-2bc9-4bfb-be26-ec8779bd3043",
   "metadata": {},
   "outputs": [
    {
     "data": {
      "text/html": [
       "<style>#sk-container-id-1 {\n",
       "  /* Definition of color scheme common for light and dark mode */\n",
       "  --sklearn-color-text: black;\n",
       "  --sklearn-color-line: gray;\n",
       "  /* Definition of color scheme for unfitted estimators */\n",
       "  --sklearn-color-unfitted-level-0: #fff5e6;\n",
       "  --sklearn-color-unfitted-level-1: #f6e4d2;\n",
       "  --sklearn-color-unfitted-level-2: #ffe0b3;\n",
       "  --sklearn-color-unfitted-level-3: chocolate;\n",
       "  /* Definition of color scheme for fitted estimators */\n",
       "  --sklearn-color-fitted-level-0: #f0f8ff;\n",
       "  --sklearn-color-fitted-level-1: #d4ebff;\n",
       "  --sklearn-color-fitted-level-2: #b3dbfd;\n",
       "  --sklearn-color-fitted-level-3: cornflowerblue;\n",
       "\n",
       "  /* Specific color for light theme */\n",
       "  --sklearn-color-text-on-default-background: var(--sg-text-color, var(--theme-code-foreground, var(--jp-content-font-color1, black)));\n",
       "  --sklearn-color-background: var(--sg-background-color, var(--theme-background, var(--jp-layout-color0, white)));\n",
       "  --sklearn-color-border-box: var(--sg-text-color, var(--theme-code-foreground, var(--jp-content-font-color1, black)));\n",
       "  --sklearn-color-icon: #696969;\n",
       "\n",
       "  @media (prefers-color-scheme: dark) {\n",
       "    /* Redefinition of color scheme for dark theme */\n",
       "    --sklearn-color-text-on-default-background: var(--sg-text-color, var(--theme-code-foreground, var(--jp-content-font-color1, white)));\n",
       "    --sklearn-color-background: var(--sg-background-color, var(--theme-background, var(--jp-layout-color0, #111)));\n",
       "    --sklearn-color-border-box: var(--sg-text-color, var(--theme-code-foreground, var(--jp-content-font-color1, white)));\n",
       "    --sklearn-color-icon: #878787;\n",
       "  }\n",
       "}\n",
       "\n",
       "#sk-container-id-1 {\n",
       "  color: var(--sklearn-color-text);\n",
       "}\n",
       "\n",
       "#sk-container-id-1 pre {\n",
       "  padding: 0;\n",
       "}\n",
       "\n",
       "#sk-container-id-1 input.sk-hidden--visually {\n",
       "  border: 0;\n",
       "  clip: rect(1px 1px 1px 1px);\n",
       "  clip: rect(1px, 1px, 1px, 1px);\n",
       "  height: 1px;\n",
       "  margin: -1px;\n",
       "  overflow: hidden;\n",
       "  padding: 0;\n",
       "  position: absolute;\n",
       "  width: 1px;\n",
       "}\n",
       "\n",
       "#sk-container-id-1 div.sk-dashed-wrapped {\n",
       "  border: 1px dashed var(--sklearn-color-line);\n",
       "  margin: 0 0.4em 0.5em 0.4em;\n",
       "  box-sizing: border-box;\n",
       "  padding-bottom: 0.4em;\n",
       "  background-color: var(--sklearn-color-background);\n",
       "}\n",
       "\n",
       "#sk-container-id-1 div.sk-container {\n",
       "  /* jupyter's `normalize.less` sets `[hidden] { display: none; }`\n",
       "     but bootstrap.min.css set `[hidden] { display: none !important; }`\n",
       "     so we also need the `!important` here to be able to override the\n",
       "     default hidden behavior on the sphinx rendered scikit-learn.org.\n",
       "     See: https://github.com/scikit-learn/scikit-learn/issues/21755 */\n",
       "  display: inline-block !important;\n",
       "  position: relative;\n",
       "}\n",
       "\n",
       "#sk-container-id-1 div.sk-text-repr-fallback {\n",
       "  display: none;\n",
       "}\n",
       "\n",
       "div.sk-parallel-item,\n",
       "div.sk-serial,\n",
       "div.sk-item {\n",
       "  /* draw centered vertical line to link estimators */\n",
       "  background-image: linear-gradient(var(--sklearn-color-text-on-default-background), var(--sklearn-color-text-on-default-background));\n",
       "  background-size: 2px 100%;\n",
       "  background-repeat: no-repeat;\n",
       "  background-position: center center;\n",
       "}\n",
       "\n",
       "/* Parallel-specific style estimator block */\n",
       "\n",
       "#sk-container-id-1 div.sk-parallel-item::after {\n",
       "  content: \"\";\n",
       "  width: 100%;\n",
       "  border-bottom: 2px solid var(--sklearn-color-text-on-default-background);\n",
       "  flex-grow: 1;\n",
       "}\n",
       "\n",
       "#sk-container-id-1 div.sk-parallel {\n",
       "  display: flex;\n",
       "  align-items: stretch;\n",
       "  justify-content: center;\n",
       "  background-color: var(--sklearn-color-background);\n",
       "  position: relative;\n",
       "}\n",
       "\n",
       "#sk-container-id-1 div.sk-parallel-item {\n",
       "  display: flex;\n",
       "  flex-direction: column;\n",
       "}\n",
       "\n",
       "#sk-container-id-1 div.sk-parallel-item:first-child::after {\n",
       "  align-self: flex-end;\n",
       "  width: 50%;\n",
       "}\n",
       "\n",
       "#sk-container-id-1 div.sk-parallel-item:last-child::after {\n",
       "  align-self: flex-start;\n",
       "  width: 50%;\n",
       "}\n",
       "\n",
       "#sk-container-id-1 div.sk-parallel-item:only-child::after {\n",
       "  width: 0;\n",
       "}\n",
       "\n",
       "/* Serial-specific style estimator block */\n",
       "\n",
       "#sk-container-id-1 div.sk-serial {\n",
       "  display: flex;\n",
       "  flex-direction: column;\n",
       "  align-items: center;\n",
       "  background-color: var(--sklearn-color-background);\n",
       "  padding-right: 1em;\n",
       "  padding-left: 1em;\n",
       "}\n",
       "\n",
       "\n",
       "/* Toggleable style: style used for estimator/Pipeline/ColumnTransformer box that is\n",
       "clickable and can be expanded/collapsed.\n",
       "- Pipeline and ColumnTransformer use this feature and define the default style\n",
       "- Estimators will overwrite some part of the style using the `sk-estimator` class\n",
       "*/\n",
       "\n",
       "/* Pipeline and ColumnTransformer style (default) */\n",
       "\n",
       "#sk-container-id-1 div.sk-toggleable {\n",
       "  /* Default theme specific background. It is overwritten whether we have a\n",
       "  specific estimator or a Pipeline/ColumnTransformer */\n",
       "  background-color: var(--sklearn-color-background);\n",
       "}\n",
       "\n",
       "/* Toggleable label */\n",
       "#sk-container-id-1 label.sk-toggleable__label {\n",
       "  cursor: pointer;\n",
       "  display: block;\n",
       "  width: 100%;\n",
       "  margin-bottom: 0;\n",
       "  padding: 0.5em;\n",
       "  box-sizing: border-box;\n",
       "  text-align: center;\n",
       "}\n",
       "\n",
       "#sk-container-id-1 label.sk-toggleable__label-arrow:before {\n",
       "  /* Arrow on the left of the label */\n",
       "  content: \"▸\";\n",
       "  float: left;\n",
       "  margin-right: 0.25em;\n",
       "  color: var(--sklearn-color-icon);\n",
       "}\n",
       "\n",
       "#sk-container-id-1 label.sk-toggleable__label-arrow:hover:before {\n",
       "  color: var(--sklearn-color-text);\n",
       "}\n",
       "\n",
       "/* Toggleable content - dropdown */\n",
       "\n",
       "#sk-container-id-1 div.sk-toggleable__content {\n",
       "  max-height: 0;\n",
       "  max-width: 0;\n",
       "  overflow: hidden;\n",
       "  text-align: left;\n",
       "  /* unfitted */\n",
       "  background-color: var(--sklearn-color-unfitted-level-0);\n",
       "}\n",
       "\n",
       "#sk-container-id-1 div.sk-toggleable__content.fitted {\n",
       "  /* fitted */\n",
       "  background-color: var(--sklearn-color-fitted-level-0);\n",
       "}\n",
       "\n",
       "#sk-container-id-1 div.sk-toggleable__content pre {\n",
       "  margin: 0.2em;\n",
       "  border-radius: 0.25em;\n",
       "  color: var(--sklearn-color-text);\n",
       "  /* unfitted */\n",
       "  background-color: var(--sklearn-color-unfitted-level-0);\n",
       "}\n",
       "\n",
       "#sk-container-id-1 div.sk-toggleable__content.fitted pre {\n",
       "  /* unfitted */\n",
       "  background-color: var(--sklearn-color-fitted-level-0);\n",
       "}\n",
       "\n",
       "#sk-container-id-1 input.sk-toggleable__control:checked~div.sk-toggleable__content {\n",
       "  /* Expand drop-down */\n",
       "  max-height: 200px;\n",
       "  max-width: 100%;\n",
       "  overflow: auto;\n",
       "}\n",
       "\n",
       "#sk-container-id-1 input.sk-toggleable__control:checked~label.sk-toggleable__label-arrow:before {\n",
       "  content: \"▾\";\n",
       "}\n",
       "\n",
       "/* Pipeline/ColumnTransformer-specific style */\n",
       "\n",
       "#sk-container-id-1 div.sk-label input.sk-toggleable__control:checked~label.sk-toggleable__label {\n",
       "  color: var(--sklearn-color-text);\n",
       "  background-color: var(--sklearn-color-unfitted-level-2);\n",
       "}\n",
       "\n",
       "#sk-container-id-1 div.sk-label.fitted input.sk-toggleable__control:checked~label.sk-toggleable__label {\n",
       "  background-color: var(--sklearn-color-fitted-level-2);\n",
       "}\n",
       "\n",
       "/* Estimator-specific style */\n",
       "\n",
       "/* Colorize estimator box */\n",
       "#sk-container-id-1 div.sk-estimator input.sk-toggleable__control:checked~label.sk-toggleable__label {\n",
       "  /* unfitted */\n",
       "  background-color: var(--sklearn-color-unfitted-level-2);\n",
       "}\n",
       "\n",
       "#sk-container-id-1 div.sk-estimator.fitted input.sk-toggleable__control:checked~label.sk-toggleable__label {\n",
       "  /* fitted */\n",
       "  background-color: var(--sklearn-color-fitted-level-2);\n",
       "}\n",
       "\n",
       "#sk-container-id-1 div.sk-label label.sk-toggleable__label,\n",
       "#sk-container-id-1 div.sk-label label {\n",
       "  /* The background is the default theme color */\n",
       "  color: var(--sklearn-color-text-on-default-background);\n",
       "}\n",
       "\n",
       "/* On hover, darken the color of the background */\n",
       "#sk-container-id-1 div.sk-label:hover label.sk-toggleable__label {\n",
       "  color: var(--sklearn-color-text);\n",
       "  background-color: var(--sklearn-color-unfitted-level-2);\n",
       "}\n",
       "\n",
       "/* Label box, darken color on hover, fitted */\n",
       "#sk-container-id-1 div.sk-label.fitted:hover label.sk-toggleable__label.fitted {\n",
       "  color: var(--sklearn-color-text);\n",
       "  background-color: var(--sklearn-color-fitted-level-2);\n",
       "}\n",
       "\n",
       "/* Estimator label */\n",
       "\n",
       "#sk-container-id-1 div.sk-label label {\n",
       "  font-family: monospace;\n",
       "  font-weight: bold;\n",
       "  display: inline-block;\n",
       "  line-height: 1.2em;\n",
       "}\n",
       "\n",
       "#sk-container-id-1 div.sk-label-container {\n",
       "  text-align: center;\n",
       "}\n",
       "\n",
       "/* Estimator-specific */\n",
       "#sk-container-id-1 div.sk-estimator {\n",
       "  font-family: monospace;\n",
       "  border: 1px dotted var(--sklearn-color-border-box);\n",
       "  border-radius: 0.25em;\n",
       "  box-sizing: border-box;\n",
       "  margin-bottom: 0.5em;\n",
       "  /* unfitted */\n",
       "  background-color: var(--sklearn-color-unfitted-level-0);\n",
       "}\n",
       "\n",
       "#sk-container-id-1 div.sk-estimator.fitted {\n",
       "  /* fitted */\n",
       "  background-color: var(--sklearn-color-fitted-level-0);\n",
       "}\n",
       "\n",
       "/* on hover */\n",
       "#sk-container-id-1 div.sk-estimator:hover {\n",
       "  /* unfitted */\n",
       "  background-color: var(--sklearn-color-unfitted-level-2);\n",
       "}\n",
       "\n",
       "#sk-container-id-1 div.sk-estimator.fitted:hover {\n",
       "  /* fitted */\n",
       "  background-color: var(--sklearn-color-fitted-level-2);\n",
       "}\n",
       "\n",
       "/* Specification for estimator info (e.g. \"i\" and \"?\") */\n",
       "\n",
       "/* Common style for \"i\" and \"?\" */\n",
       "\n",
       ".sk-estimator-doc-link,\n",
       "a:link.sk-estimator-doc-link,\n",
       "a:visited.sk-estimator-doc-link {\n",
       "  float: right;\n",
       "  font-size: smaller;\n",
       "  line-height: 1em;\n",
       "  font-family: monospace;\n",
       "  background-color: var(--sklearn-color-background);\n",
       "  border-radius: 1em;\n",
       "  height: 1em;\n",
       "  width: 1em;\n",
       "  text-decoration: none !important;\n",
       "  margin-left: 1ex;\n",
       "  /* unfitted */\n",
       "  border: var(--sklearn-color-unfitted-level-1) 1pt solid;\n",
       "  color: var(--sklearn-color-unfitted-level-1);\n",
       "}\n",
       "\n",
       ".sk-estimator-doc-link.fitted,\n",
       "a:link.sk-estimator-doc-link.fitted,\n",
       "a:visited.sk-estimator-doc-link.fitted {\n",
       "  /* fitted */\n",
       "  border: var(--sklearn-color-fitted-level-1) 1pt solid;\n",
       "  color: var(--sklearn-color-fitted-level-1);\n",
       "}\n",
       "\n",
       "/* On hover */\n",
       "div.sk-estimator:hover .sk-estimator-doc-link:hover,\n",
       ".sk-estimator-doc-link:hover,\n",
       "div.sk-label-container:hover .sk-estimator-doc-link:hover,\n",
       ".sk-estimator-doc-link:hover {\n",
       "  /* unfitted */\n",
       "  background-color: var(--sklearn-color-unfitted-level-3);\n",
       "  color: var(--sklearn-color-background);\n",
       "  text-decoration: none;\n",
       "}\n",
       "\n",
       "div.sk-estimator.fitted:hover .sk-estimator-doc-link.fitted:hover,\n",
       ".sk-estimator-doc-link.fitted:hover,\n",
       "div.sk-label-container:hover .sk-estimator-doc-link.fitted:hover,\n",
       ".sk-estimator-doc-link.fitted:hover {\n",
       "  /* fitted */\n",
       "  background-color: var(--sklearn-color-fitted-level-3);\n",
       "  color: var(--sklearn-color-background);\n",
       "  text-decoration: none;\n",
       "}\n",
       "\n",
       "/* Span, style for the box shown on hovering the info icon */\n",
       ".sk-estimator-doc-link span {\n",
       "  display: none;\n",
       "  z-index: 9999;\n",
       "  position: relative;\n",
       "  font-weight: normal;\n",
       "  right: .2ex;\n",
       "  padding: .5ex;\n",
       "  margin: .5ex;\n",
       "  width: min-content;\n",
       "  min-width: 20ex;\n",
       "  max-width: 50ex;\n",
       "  color: var(--sklearn-color-text);\n",
       "  box-shadow: 2pt 2pt 4pt #999;\n",
       "  /* unfitted */\n",
       "  background: var(--sklearn-color-unfitted-level-0);\n",
       "  border: .5pt solid var(--sklearn-color-unfitted-level-3);\n",
       "}\n",
       "\n",
       ".sk-estimator-doc-link.fitted span {\n",
       "  /* fitted */\n",
       "  background: var(--sklearn-color-fitted-level-0);\n",
       "  border: var(--sklearn-color-fitted-level-3);\n",
       "}\n",
       "\n",
       ".sk-estimator-doc-link:hover span {\n",
       "  display: block;\n",
       "}\n",
       "\n",
       "/* \"?\"-specific style due to the `<a>` HTML tag */\n",
       "\n",
       "#sk-container-id-1 a.estimator_doc_link {\n",
       "  float: right;\n",
       "  font-size: 1rem;\n",
       "  line-height: 1em;\n",
       "  font-family: monospace;\n",
       "  background-color: var(--sklearn-color-background);\n",
       "  border-radius: 1rem;\n",
       "  height: 1rem;\n",
       "  width: 1rem;\n",
       "  text-decoration: none;\n",
       "  /* unfitted */\n",
       "  color: var(--sklearn-color-unfitted-level-1);\n",
       "  border: var(--sklearn-color-unfitted-level-1) 1pt solid;\n",
       "}\n",
       "\n",
       "#sk-container-id-1 a.estimator_doc_link.fitted {\n",
       "  /* fitted */\n",
       "  border: var(--sklearn-color-fitted-level-1) 1pt solid;\n",
       "  color: var(--sklearn-color-fitted-level-1);\n",
       "}\n",
       "\n",
       "/* On hover */\n",
       "#sk-container-id-1 a.estimator_doc_link:hover {\n",
       "  /* unfitted */\n",
       "  background-color: var(--sklearn-color-unfitted-level-3);\n",
       "  color: var(--sklearn-color-background);\n",
       "  text-decoration: none;\n",
       "}\n",
       "\n",
       "#sk-container-id-1 a.estimator_doc_link.fitted:hover {\n",
       "  /* fitted */\n",
       "  background-color: var(--sklearn-color-fitted-level-3);\n",
       "}\n",
       "</style><div id=\"sk-container-id-1\" class=\"sk-top-container\"><div class=\"sk-text-repr-fallback\"><pre>RandomForestClassifier(class_weight=&#x27;balanced&#x27;, random_state=42)</pre><b>In a Jupyter environment, please rerun this cell to show the HTML representation or trust the notebook. <br />On GitHub, the HTML representation is unable to render, please try loading this page with nbviewer.org.</b></div><div class=\"sk-container\" hidden><div class=\"sk-item\"><div class=\"sk-estimator fitted sk-toggleable\"><input class=\"sk-toggleable__control sk-hidden--visually\" id=\"sk-estimator-id-1\" type=\"checkbox\" checked><label for=\"sk-estimator-id-1\" class=\"sk-toggleable__label fitted sk-toggleable__label-arrow fitted\">&nbsp;&nbsp;RandomForestClassifier<a class=\"sk-estimator-doc-link fitted\" rel=\"noreferrer\" target=\"_blank\" href=\"https://scikit-learn.org/1.5/modules/generated/sklearn.ensemble.RandomForestClassifier.html\">?<span>Documentation for RandomForestClassifier</span></a><span class=\"sk-estimator-doc-link fitted\">i<span>Fitted</span></span></label><div class=\"sk-toggleable__content fitted\"><pre>RandomForestClassifier(class_weight=&#x27;balanced&#x27;, random_state=42)</pre></div> </div></div></div></div>"
      ],
      "text/plain": [
       "RandomForestClassifier(class_weight='balanced', random_state=42)"
      ]
     },
     "execution_count": 110,
     "metadata": {},
     "output_type": "execute_result"
    }
   ],
   "source": [
    "from sklearn.ensemble import RandomForestClassifier\n",
    "\n",
    "# Initialize and train the model\n",
    "model = RandomForestClassifier(n_estimators=100, random_state=42, class_weight='balanced')\n",
    "model.fit(X_train_scaled, y_train)\n"
   ]
  },
  {
   "cell_type": "markdown",
   "id": "1e8f04e1-1987-47e0-b046-627d316c38f3",
   "metadata": {},
   "source": [
    "# Predictions"
   ]
  },
  {
   "cell_type": "code",
   "execution_count": 112,
   "id": "26a71749-9430-4f02-ab01-f32cad4dcf85",
   "metadata": {},
   "outputs": [],
   "source": [
    "y_pred = model.predict(X_test_scaled)\n",
    "y_prob = model.predict_proba(X_test_scaled)[:, 1]\n"
   ]
  },
  {
   "cell_type": "markdown",
   "id": "2a24ea19-dc51-4b69-8075-72bfbfac83be",
   "metadata": {},
   "source": [
    "# confusion_matrix, classification_report, roc_auc_score"
   ]
  },
  {
   "cell_type": "code",
   "execution_count": 116,
   "id": "6d418f96-3cd0-4e22-8e8e-48c45b962211",
   "metadata": {},
   "outputs": [
    {
     "name": "stdout",
     "output_type": "stream",
     "text": [
      "Confusion Matrix:\n",
      " [[7 5]\n",
      " [4 4]]\n",
      "\n",
      "Classification Report:\n",
      "               precision    recall  f1-score   support\n",
      "\n",
      "           0       0.64      0.58      0.61        12\n",
      "           1       0.44      0.50      0.47         8\n",
      "\n",
      "    accuracy                           0.55        20\n",
      "   macro avg       0.54      0.54      0.54        20\n",
      "weighted avg       0.56      0.55      0.55        20\n",
      "\n",
      "\n",
      "ROC-AUC Score: 0.5468749999999999\n"
     ]
    }
   ],
   "source": [
    "from sklearn.metrics import confusion_matrix, classification_report, roc_auc_score\n",
    "\n",
    "# Model Evaluation\n",
    "print(\"Confusion Matrix:\\n\", confusion_matrix(y_test, y_pred))\n",
    "print(\"\\nClassification Report:\\n\", classification_report(y_test, y_pred))\n",
    "\n",
    "# If your model predicts probabilities, ensure you are using the correct column\n",
    "y_prob = model.predict_proba(X_test_scaled)[:, 1]  # Extract probability for the positive class\n",
    "\n",
    "print(\"\\nROC-AUC Score:\", roc_auc_score(y_test, y_prob))\n"
   ]
  },
  {
   "cell_type": "markdown",
   "id": "d4b2a410-af8a-4297-bb3b-83d919f77234",
   "metadata": {},
   "source": [
    "# Accuracy Score"
   ]
  },
  {
   "cell_type": "code",
   "execution_count": 118,
   "id": "059f92ad-2c5b-4d44-9f6b-f05b669132d6",
   "metadata": {},
   "outputs": [
    {
     "name": "stdout",
     "output_type": "stream",
     "text": [
      "Accuracy Score: 0.55\n"
     ]
    }
   ],
   "source": [
    "from sklearn.metrics import accuracy_score\n",
    "\n",
    "print(\"Accuracy Score:\", accuracy_score(y_test, y_pred))\n"
   ]
  },
  {
   "cell_type": "markdown",
   "id": "26de47c6-7157-4377-9ed1-0492885d07e5",
   "metadata": {},
   "source": [
    "# Precision, Recall, and F1-Score (Manually)"
   ]
  },
  {
   "cell_type": "code",
   "execution_count": 121,
   "id": "6b9ab54c-bcef-44b3-be70-40d0e7176b17",
   "metadata": {},
   "outputs": [
    {
     "name": "stdout",
     "output_type": "stream",
     "text": [
      "Precision (Positive Class): 0.4444444444444444\n",
      "Recall (Positive Class): 0.5\n",
      "F1-Score (Positive Class): 0.47058823529411764\n"
     ]
    }
   ],
   "source": [
    "from sklearn.metrics import precision_score, recall_score, f1_score\n",
    "\n",
    "print(\"Precision (Positive Class):\", precision_score(y_test, y_pred))\n",
    "print(\"Recall (Positive Class):\", recall_score(y_test, y_pred))\n",
    "print(\"F1-Score (Positive Class):\", f1_score(y_test, y_pred))\n"
   ]
  },
  {
   "cell_type": "markdown",
   "id": "50a030e5-0c03-4b65-a874-cbd5c4730eda",
   "metadata": {},
   "source": [
    "# ROC Curve Visualization"
   ]
  },
  {
   "cell_type": "code",
   "execution_count": 126,
   "id": "10329a55-3df0-48a4-890a-dcc5f1719b24",
   "metadata": {},
   "outputs": [
    {
     "data": {
      "image/png": "[encoded data removed]",
      "text/plain": [
       "<Figure size 600x400 with 1 Axes>"
      ]
     },
     "metadata": {},
     "output_type": "display_data"
    }
   ],
   "source": [
    "import matplotlib.pyplot as plt\n",
    "from sklearn.metrics import roc_curve\n",
    "\n",
    "fpr, tpr, _ = roc_curve(y_test, y_prob)\n",
    "\n",
    "plt.figure(figsize=(6, 4))\n",
    "plt.plot(fpr, tpr, color='blue', label=\"ROC Curve\")\n",
    "plt.plot([0, 1], [0, 1], color='red', linestyle='--')  # Random model reference\n",
    "plt.xlabel(\"False Positive Rate\")\n",
    "plt.ylabel(\"True Positive Rate\")\n",
    "plt.title(\"ROC Curve\")\n",
    "plt.legend()\n",
    "plt.show()\n"
   ]
  },
  {
   "cell_type": "markdown",
   "id": "824dca2b-ff91-492c-a056-a592a7fa1473",
   "metadata": {},
   "source": [
    "# Cohen’s Kappa Score"
   ]
  },
  {
   "cell_type": "code",
   "execution_count": 128,
   "id": "9c7349c8-e52e-423f-b5e6-c7ec3af0c233",
   "metadata": {},
   "outputs": [
    {
     "name": "stdout",
     "output_type": "stream",
     "text": [
      "Cohen’s Kappa Score: 0.08163265306122458\n"
     ]
    }
   ],
   "source": [
    "from sklearn.metrics import cohen_kappa_score\n",
    "\n",
    "print(\"Cohen’s Kappa Score:\", cohen_kappa_score(y_test, y_pred))"
   ]
  },
  {
   "cell_type": "markdown",
   "id": "dbf63281-afc8-4474-8a58-ec2f2a3d5b2f",
   "metadata": {},
   "source": [
    "# Matthews Correlation Coefficient (MCC)"
   ]
  },
  {
   "cell_type": "code",
   "execution_count": 131,
   "id": "11953380-f2cb-468d-8f18-73bbeea168a2",
   "metadata": {},
   "outputs": [
    {
     "name": "stdout",
     "output_type": "stream",
     "text": [
      "Matthews Correlation Coefficient: 0.08206099398622181\n"
     ]
    }
   ],
   "source": [
    "from sklearn.metrics import matthews_corrcoef\n",
    "\n",
    "print(\"Matthews Correlation Coefficient:\", matthews_corrcoef(y_test, y_pred))\n"
   ]
  },
  {
   "cell_type": "markdown",
   "id": "12a4dfef-2f73-421d-a773-25177a899b3b",
   "metadata": {},
   "source": [
    "# Feature Importance"
   ]
  },
  {
   "cell_type": "code",
   "execution_count": 138,
   "id": "0bcb997b-d6d4-40b1-aa8d-156f3f44e00b",
   "metadata": {},
   "outputs": [
    {
     "data": {
      "image/png": "[encoded data removed]",
      "text/plain": [
       "<Figure size 1000x500 with 1 Axes>"
      ]
     },
     "metadata": {},
     "output_type": "display_data"
    }
   ],
   "source": [
    "import pandas as pd\n",
    "import matplotlib.pyplot as plt\n",
    "\n",
    "# If X is a NumPy array, convert it to a DataFrame with feature names\n",
    "if isinstance(X, np.ndarray):\n",
    "    X = pd.DataFrame(X_train_scaled, columns=[f'Feature_{i}' for i in range(X_train_scaled.shape[1])])\n",
    "\n",
    "# Extract feature importance\n",
    "feature_importance = pd.Series(model.feature_importances_, index=X.columns).sort_values(ascending=False)\n",
    "\n",
    "# Plot feature importance\n",
    "plt.figure(figsize=(10, 5))\n",
    "feature_importance.plot(kind='bar')\n",
    "plt.title(\"Feature Importance\")\n",
    "plt.xlabel(\"Features\")\n",
    "plt.ylabel(\"Importance Score\")\n",
    "plt.show()\n"
   ]
  },
  {
   "cell_type": "markdown",
   "id": "22867f4b-f787-4900-9ce1-b7ad783e8929",
   "metadata": {},
   "source": [
    "# Actionable Insights"
   ]
  },
  {
   "cell_type": "code",
   "execution_count": 141,
   "id": "fb436288-22da-4da6-be45-7f94156eac16",
   "metadata": {},
   "outputs": [
    {
     "name": "stdout",
     "output_type": "stream",
     "text": [
      "\n",
      "Actionable Insights:\n",
      "1. Monitor high-risk transaction types with high fraud likelihood.\n",
      "2. Implement multi-factor authentication for risky transactions.\n",
      "3. Use real-time anomaly detection on flagged transactions.\n",
      "4. Educate customers on common fraud schemes.\n"
     ]
    }
   ],
   "source": [
    "print(\"\\nActionable Insights:\")\n",
    "print(\"1. Monitor high-risk transaction types with high fraud likelihood.\")\n",
    "print(\"2. Implement multi-factor authentication for risky transactions.\")\n",
    "print(\"3. Use real-time anomaly detection on flagged transactions.\")\n",
    "print(\"4. Educate customers on common fraud schemes.\")"
   ]
  },
  {
   "cell_type": "markdown",
   "id": "dd1b65df-9def-44ec-ab8a-ec4ebbbb15dd",
   "metadata": {},
   "source": [
    "# Print Summary Statistics"
   ]
  },
  {
   "cell_type": "code",
   "execution_count": 144,
   "id": "ccf3630a-6b8d-49a4-ab21-f58426b28cf0",
   "metadata": {},
   "outputs": [
    {
     "name": "stdout",
     "output_type": "stream",
     "text": [
      "\n",
      "Dataset Summary:\n",
      "          Feature_0     Feature_1     Feature_2     Feature_3     Feature_4\n",
      "count  8.000000e+01  8.000000e+01  8.000000e+01  8.000000e+01  8.000000e+01\n",
      "mean   5.023759e-16 -3.330669e-16  1.998401e-16 -2.220446e-17 -9.992007e-17\n",
      "std    1.006309e+00  1.006309e+00  1.006309e+00  1.006309e+00  1.006309e+00\n",
      "min   -1.667991e+00 -1.708233e+00 -1.805312e+00 -1.848063e+00 -1.611919e+00\n",
      "25%   -9.151688e-01 -8.800358e-01 -7.616702e-01 -8.483875e-01 -8.838543e-01\n",
      "50%    6.263150e-02  1.761575e-02 -9.560021e-02 -2.306138e-02  1.058425e-01\n",
      "75%    8.980976e-01  7.916536e-01  8.578364e-01  8.799125e-01  8.609866e-01\n",
      "max    1.720535e+00  1.618069e+00  1.828275e+00  1.793053e+00  1.675334e+00\n"
     ]
    }
   ],
   "source": [
    "print(\"\\nDataset Summary:\")\n",
    "print(X.describe())  # Shows statistical details of features\n"
   ]
  },
  {
   "cell_type": "markdown",
   "id": "ea126004-828f-4638-8ae0-fc8bd0b09dd1",
   "metadata": {},
   "source": [
    "# Fraud vs. Non-Fraud Count (Bar Chart)"
   ]
  },
  {
   "cell_type": "code",
   "execution_count": 162,
   "id": "a1c53a57-11aa-4de3-bbcd-80c32632c7ee",
   "metadata": {},
   "outputs": [
    {
     "name": "stderr",
     "output_type": "stream",
     "text": [
      "C:\\Users\\admin\\AppData\\Local\\Temp\\ipykernel_5736\\288453583.py:9: FutureWarning: \n",
      "\n",
      "Passing `palette` without assigning `hue` is deprecated and will be removed in v0.14.0. Assign the `x` variable to `hue` and set `legend=False` for the same effect.\n",
      "\n",
      "  sns.countplot(data=y_train_df, x=\"Transaction Type\", palette=\"viridis\")\n"
     ]
    },
    {
     "data": {
      "image/png": "[encoded data removed]",
      "text/plain": [
       "<Figure size 500x400 with 1 Axes>"
      ]
     },
     "metadata": {},
     "output_type": "display_data"
    }
   ],
   "source": [
    "import seaborn as sns\n",
    "import pandas as pd\n",
    "import matplotlib.pyplot as plt\n",
    "\n",
    "# Convert y_train into a DataFrame for compatibility with seaborn\n",
    "y_train_df = pd.DataFrame({\"Transaction Type\": y_train})\n",
    "\n",
    "plt.figure(figsize=(5, 4))\n",
    "sns.countplot(data=y_train_df, x=\"Transaction Type\", palette=\"viridis\")\n",
    "plt.title(\"Fraud vs Non-Fraud Transactions\")\n",
    "plt.xlabel(\"Transaction Type\")\n",
    "plt.ylabel(\"Count\")\n",
    "plt.xticks(ticks=[0, 1], labels=[\"Non-Fraud\", \"Fraud\"])\n",
    "plt.show()\n"
   ]
  },
  {
   "cell_type": "markdown",
   "id": "165bd0f7-98ed-4723-8788-73df31e79b07",
   "metadata": {},
   "source": [
    "# Correlation Heatmap"
   ]
  },
  {
   "cell_type": "code",
   "execution_count": 149,
   "id": "04f0006f-9d3f-4b0e-8031-bc4e32d26353",
   "metadata": {},
   "outputs": [
    {
     "data": {
      "image/png": "[encoded data removed]",
      "text/plain": [
       "<Figure size 1000x600 with 2 Axes>"
      ]
     },
     "metadata": {},
     "output_type": "display_data"
    }
   ],
   "source": [
    "plt.figure(figsize=(10, 6))\n",
    "sns.heatmap(X.corr(), annot=True, cmap=\"coolwarm\", fmt=\".2f\")\n",
    "plt.title(\"Feature Correlation Heatmap\")\n",
    "plt.show()\n"
   ]
  },
  {
   "cell_type": "markdown",
   "id": "b7cab5e2-dfeb-44e9-be5f-9460f57f81d3",
   "metadata": {},
   "source": [
    "# Box Plot of Transaction Amount by Fraud Status"
   ]
  },
  {
   "cell_type": "code",
   "execution_count": 151,
   "id": "39244f25-8df6-4eda-8c77-2151221ccea6",
   "metadata": {},
   "outputs": [
    {
     "data": {
      "image/png": "[encoded data removed]",
      "text/plain": [
       "<Figure size 800x500 with 1 Axes>"
      ]
     },
     "metadata": {},
     "output_type": "display_data"
    }
   ],
   "source": [
    "plt.figure(figsize=(8, 5))\n",
    "sns.boxplot(x=y_train, y=X_train_scaled[:, 0])  # Change index to correct feature (e.g., transaction amount)\n",
    "plt.title(\"Transaction Amount Distribution by Fraud Status\")\n",
    "plt.xlabel(\"Fraud (1) vs. Non-Fraud (0)\")\n",
    "plt.ylabel(\"Transaction Amount\")\n",
    "plt.show()\n"
   ]
  },
  {
   "cell_type": "markdown",
   "id": "c3fe5b73-45f0-4e37-9e15-61cf45c406f6",
   "metadata": {},
   "source": [
    "# Precision-Recall Curve (Better for Imbalanced Data)"
   ]
  },
  {
   "cell_type": "code",
   "execution_count": 153,
   "id": "fa4bb1a6-33c5-4bbc-890e-a75abc29a9fc",
   "metadata": {},
   "outputs": [
    {
     "data": {
      "image/png": "[encoded data removed]",
      "text/plain": [
       "<Figure size 600x400 with 1 Axes>"
      ]
     },
     "metadata": {},
     "output_type": "display_data"
    }
   ],
   "source": [
    "from sklearn.metrics import precision_recall_curve\n",
    "\n",
    "precision, recall, _ = precision_recall_curve(y_test, y_prob)\n",
    "plt.figure(figsize=(6, 4))\n",
    "plt.plot(recall, precision, marker='.')\n",
    "plt.xlabel(\"Recall\")\n",
    "plt.ylabel(\"Precision\")\n",
    "plt.title(\"Precision-Recall Curve\")\n",
    "plt.show()\n"
   ]
  },
  {
   "cell_type": "code",
   "execution_count": null,
   "id": "17934abd-8cbb-4657-a72c-fac5f1eae525",
   "metadata": {},
   "outputs": [],
   "source": []
  }
 ],
 "metadata": {
  "kernelspec": {
   "display_name": "Python [conda env:base] *",
   "language": "python",
   "name": "conda-base-py"
  },
  "language_info": {
   "codemirror_mode": {
    "name": "ipython",
    "version": 3
   },
   "file_extension": ".py",
   "mimetype": "text/x-python",
   "name": "python",
   "nbconvert_exporter": "python",
   "pygments_lexer": "ipython3",
   "version": "3.12.7"
  }
 },
 "nbformat": 4,
 "nbformat_minor": 5
}
